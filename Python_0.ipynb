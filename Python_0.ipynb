{
 "cells": [
  {
   "cell_type": "code",
   "execution_count": 1,
   "id": "1f782161",
   "metadata": {},
   "outputs": [
    {
     "name": "stdout",
     "output_type": "stream",
     "text": [
      "A= 1636.5416666666667\n"
     ]
    }
   ],
   "source": [
    "# №1 Вычислить пример\n",
    "#\n",
    "#    1       33       55      9\n",
    "# 18--- *(30---- + 50----) : ---\n",
    "#   10       44       88      10\n",
    "\n",
    "A=(18+(1/10))*((30+(33/44))+(50+(55/88)))/(9/10)\n",
    "\n",
    "print(\"A=\",A)"
   ]
  },
  {
   "cell_type": "code",
   "execution_count": 2,
   "id": "35f1efbe",
   "metadata": {},
   "outputs": [
    {
     "name": "stdout",
     "output_type": "stream",
     "text": [
      "Enter number A=88888888\n",
      "k= 3950617160493828\n"
     ]
    }
   ],
   "source": [
    "# №2 Вычислить сумму ряда 0-88888888\n",
    "\n",
    "B=int(input(\"Enter number A=\"))\n",
    "k=0\n",
    "for i in range(0,B):\n",
    "    k=k+i\n",
    "\n",
    "print ('k=',k)"
   ]
  },
  {
   "cell_type": "code",
   "execution_count": 3,
   "id": "cd77a3c8",
   "metadata": {},
   "outputs": [
    {
     "name": "stdout",
     "output_type": "stream",
     "text": [
      "S= 24.285714285714285\n"
     ]
    }
   ],
   "source": [
    "# №3 Найти среднее арифметическое ряда С=[3,4,56,100,2,2,3]\n",
    "\n",
    "C=[3,4,56,100,2,2,3]\n",
    "l=0\n",
    "for i in range (len(C)):\n",
    "    l=l+C[i]\n",
    "\n",
    "S=l/len(C)\n",
    "\n",
    "print('S=', S)"
   ]
  }
 ],
 "metadata": {
  "kernelspec": {
   "display_name": "Python 3",
   "language": "python",
   "name": "python3"
  },
  "language_info": {
   "codemirror_mode": {
    "name": "ipython",
    "version": 3
   },
   "file_extension": ".py",
   "mimetype": "text/x-python",
   "name": "python",
   "nbconvert_exporter": "python",
   "pygments_lexer": "ipython3",
   "version": "3.8.8"
  }
 },
 "nbformat": 4,
 "nbformat_minor": 5
}
