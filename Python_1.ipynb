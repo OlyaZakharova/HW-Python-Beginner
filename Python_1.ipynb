{
 "cells": [
  {
   "cell_type": "code",
   "execution_count": 1,
   "id": "a477323e",
   "metadata": {},
   "outputs": [
    {
     "name": "stdout",
     "output_type": "stream",
     "text": [
      "nbjxjkhx xkkhhxjkjxxxs jkjkx\n",
      "nbjyjkhy ykkhhyjkjyyys jkjky\n"
     ]
    }
   ],
   "source": [
    "# №1 Заменить все Х на У\n",
    "\n",
    "A=\"nbjxjkhx xkkhhxjkjxxxs jkjkx\"\n",
    "B=\"\"\n",
    "for i in A:\n",
    "    if i==\"x\":\n",
    "        B+=\"y\"\n",
    "    else:\n",
    "        B+=i\n",
    "\n",
    "print(A)\n",
    "print(B)"
   ]
  },
  {
   "cell_type": "code",
   "execution_count": 2,
   "id": "3d5963d4",
   "metadata": {},
   "outputs": [
    {
     "name": "stdout",
     "output_type": "stream",
     "text": [
      "P= 2583393750\n"
     ]
    }
   ],
   "source": [
    "# №2 Сосчитать произведение чисел, кратных 3 и 5 для S=[1,3,5,7,9,15,27,30,35,45]\n",
    "S=[1,3,5,7,9,15,27,30,35,45]\n",
    "P=1\n",
    "for i in S:\n",
    "    if i//3==i/3 or i//5==i/5:\n",
    "        P*=i\n",
    "print('P=',P)"
   ]
  },
  {
   "cell_type": "code",
   "execution_count": 3,
   "id": "e4729d46",
   "metadata": {},
   "outputs": [
    {
     "name": "stdout",
     "output_type": "stream",
     "text": [
      "nbjyjkhy ykkhhyjkjyyys jkjky\n"
     ]
    }
   ],
   "source": [
    "# №3 Заменить все Х на У в исходнй строке без испольхования дополнительных строк \n",
    "#Строка взята из задания №1\n",
    "# s.replase(old,new) - заменяет в строке S все вхождения old на подстроку new\n",
    "\n",
    "print (\"nbjxjkhx xkkhhxjkjxxxs jkjkx\".replace('x','y'))\n"
   ]
  }
 ],
 "metadata": {
  "kernelspec": {
   "display_name": "Python 3",
   "language": "python",
   "name": "python3"
  },
  "language_info": {
   "codemirror_mode": {
    "name": "ipython",
    "version": 3
   },
   "file_extension": ".py",
   "mimetype": "text/x-python",
   "name": "python",
   "nbconvert_exporter": "python",
   "pygments_lexer": "ipython3",
   "version": "3.8.8"
  }
 },
 "nbformat": 4,
 "nbformat_minor": 5
}
