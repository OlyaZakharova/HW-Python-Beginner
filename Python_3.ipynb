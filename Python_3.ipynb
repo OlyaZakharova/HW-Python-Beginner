{
 "cells": [
  {
   "cell_type": "code",
   "execution_count": 1,
   "id": "3ee81bf5",
   "metadata": {
    "scrolled": true
   },
   "outputs": [
    {
     "name": "stdout",
     "output_type": "stream",
     "text": [
      "Самый низкий  ['Сидоров', 2001, 11, 161]\n"
     ]
    }
   ],
   "source": [
    "# №1,2 Выбрать \"самого какого-то\" перебрав циклом:САМОГО НИЗКОГО ПО РОСТУ\n",
    "\n",
    "# Описание с помощью списка\n",
    "\n",
    "class1=[[\"Иванов\", 2000, 4, 172],\n",
    "      [\"Петров\", 2001, 2,164],\n",
    "      [\"Сидоров\", 2001, 11, 161]]\n",
    "\n",
    "min=class1[0][3]\n",
    "b=0\n",
    "\n",
    "for i in range(3):\n",
    "    if class1[i][3]<min:\n",
    "        min=class1[i][3]\n",
    "        b=i\n",
    "\n",
    "print ('Самый низкий ',class1[b])"
   ]
  },
  {
   "cell_type": "code",
   "execution_count": 3,
   "id": "3f7f7e83",
   "metadata": {},
   "outputs": [
    {
     "name": "stdout",
     "output_type": "stream",
     "text": [
      "[{'Имя': 'Петров', 'год': 2001, 'месяц': 2, 'рост': 164}]\n"
     ]
    }
   ],
   "source": [
    "# Описание с помощью словаря\n",
    "#Поиск по ключам\n",
    "\n",
    "class2=[\n",
    "    {\"Имя\": \"Иванов\", \"год\": 2000,\"месяц\": 4,\"рост\": 172},\n",
    "    {\"Имя\": \"Петров\",\"год\": 2001,\"месяц\": 2,\"рост\": 164},\n",
    "    {\"Имя\": \"Сидоров\",\"год\": 2001,\"месяц\": 11,\"рост\": 168}\n",
    "    ]\n",
    "\n",
    "print([x for x in class2 if x['Имя'] == 'Петров'])\n",
    "\n",
    "\n",
    "        \n",
    "    \n",
    "\n"
   ]
  },
  {
   "cell_type": "code",
   "execution_count": 5,
   "id": "42ebb413",
   "metadata": {},
   "outputs": [
    {
     "name": "stdout",
     "output_type": "stream",
     "text": [
      "Что бы вы хотели найти: Имя, год, месяц, рост?\n",
      "рост\n",
      "Введите Имя/год/месяц/рост\n",
      "172\n",
      "[]\n"
     ]
    }
   ],
   "source": [
    "# №3 Поиск от пользователя input() по словарю\n",
    "print(\"Что бы вы хотели найти: Имя, год, месяц, рост?\")\n",
    "a=str(input())\n",
    "\n",
    "\n",
    "print(\"Введите Имя/год/месяц/рост\")\n",
    "c=input()\n",
    "\n",
    "#НАДО ДОВЕСТИ ДО УМА\n",
    "print([y for y in class2 if y[a] == c])"
   ]
  },
  {
   "cell_type": "code",
   "execution_count": null,
   "id": "fdee1c6b",
   "metadata": {},
   "outputs": [],
   "source": []
  }
 ],
 "metadata": {
  "kernelspec": {
   "display_name": "Python 3",
   "language": "python",
   "name": "python3"
  },
  "language_info": {
   "codemirror_mode": {
    "name": "ipython",
    "version": 3
   },
   "file_extension": ".py",
   "mimetype": "text/x-python",
   "name": "python",
   "nbconvert_exporter": "python",
   "pygments_lexer": "ipython3",
   "version": "3.8.8"
  }
 },
 "nbformat": 4,
 "nbformat_minor": 5
}
