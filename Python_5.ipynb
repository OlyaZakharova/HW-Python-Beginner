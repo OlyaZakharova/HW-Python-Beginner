{
 "cells": [
  {
   "cell_type": "code",
   "execution_count": 1,
   "id": "7644f1bc",
   "metadata": {},
   "outputs": [
    {
     "name": "stdout",
     "output_type": "stream",
     "text": [
      "Самый низкий  ['Сидоров', 2001, 11, 161]\n"
     ]
    }
   ],
   "source": [
    "# №1,2 Оформить функциями поиск в словаре и в списке\n",
    "# Поиск самого низкого по росту\n",
    "\n",
    "# Описание с помощью списка\n",
    "\n",
    "def small(class1):   \n",
    "    \n",
    "    min=class1[0][3] \n",
    "    b=0\n",
    "    \n",
    "    for i in range(3):\n",
    "        if class1[i][3]<min:\n",
    "            min=class1[i][3]\n",
    "            b=i\n",
    "    return b        \n",
    "\n",
    "\n",
    "\n",
    "class1=[[\"Иванов\", 2000, 4, 172],\n",
    "        [\"Петров\", 2001, 2,164],\n",
    "        [\"Сидоров\", 2001, 11, 161]]\n",
    "\n",
    "print (\"Самый низкий \", class1[small(class1)])"
   ]
  },
  {
   "cell_type": "code",
   "execution_count": 2,
   "id": "5cbe895d",
   "metadata": {},
   "outputs": [
    {
     "name": "stdout",
     "output_type": "stream",
     "text": [
      "Самый высокий:  Сидоров 172\n"
     ]
    }
   ],
   "source": [
    "# Поиск самого высокого \n",
    "# Описание с помощью словаря\n",
    "\n",
    "def high():\n",
    "    \n",
    "    class2={\n",
    "    \"Иванов\":{\"год\": 2000,\"месяц\": 4,\"рост\": 172},\n",
    "    \"Петров\":{\"год\": 2001,\"месяц\": 2,\"рост\": 164},\n",
    "    \"Сидоров\":{\"год\": 2001,\"месяц\": 11,\"рост\": 168}\n",
    "}\n",
    "    \n",
    "    key0=\"Иванов\"\n",
    "    key1=\"год\"\n",
    "    key2=\"месяц\"\n",
    "    key3=\"рост\"\n",
    " \n",
    "    long=class2[key0][key3]\n",
    "    d=0\n",
    "    c=0\n",
    "    for key in class2:\n",
    "          if class2 [key][key3]> long:\n",
    "                long = class2 [key][key3]\n",
    "                \n",
    "                \n",
    "    print(\"Самый высокий: \",key,long)          \n",
    "    \n",
    "  \n",
    "    \n",
    "    \n",
    "high()"
   ]
  },
  {
   "cell_type": "code",
   "execution_count": 3,
   "id": "a2ec5130",
   "metadata": {},
   "outputs": [
    {
     "name": "stdout",
     "output_type": "stream",
     "text": [
      "Иванов\n",
      "Петров\n",
      "0.3333333333333333\n"
     ]
    }
   ],
   "source": [
    "# №3 Сделать нечеткое сравнение элементов (любым способом)\n",
    "\n",
    "def compare (S1,S2):\n",
    "    ngrams=[S1[i:i+3] for i in range(len(S1))]\n",
    "    count=0\n",
    "    for ngram in ngrams:\n",
    "        count+=S2.count(ngram)\n",
    "    return count/max(len(S1),len(S2))\n",
    "    \n",
    "\n",
    "class1=[[\"Иванов\", 2000, 4, 172],\n",
    "      [\"Петров\", 2001, 2,164],\n",
    "      [\"Иванович\", 2001, 11, 161]]\n",
    "S1=class1[0][0]\n",
    "S2=class1[1][0]\n",
    "S=compare(S1,S2)\n",
    "\n",
    "print(S1)\n",
    "print(S2)\n",
    "print(S)\n"
   ]
  }
 ],
 "metadata": {
  "kernelspec": {
   "display_name": "Python 3",
   "language": "python",
   "name": "python3"
  },
  "language_info": {
   "codemirror_mode": {
    "name": "ipython",
    "version": 3
   },
   "file_extension": ".py",
   "mimetype": "text/x-python",
   "name": "python",
   "nbconvert_exporter": "python",
   "pygments_lexer": "ipython3",
   "version": "3.8.8"
  }
 },
 "nbformat": 4,
 "nbformat_minor": 5
}
