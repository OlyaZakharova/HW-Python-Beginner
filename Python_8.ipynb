{
 "cells": [
  {
   "cell_type": "code",
   "execution_count": 7,
   "id": "59be16db",
   "metadata": {
    "scrolled": true
   },
   "outputs": [
    {
     "name": "stdout",
     "output_type": "stream",
     "text": [
      "Введите рост человека:\n",
      "150\n",
      "Employee('Веселов', 'Михаил', 10, 152, 'Москва', 'спортсмен', 3000)\n",
      "Введите фамилию человека:\n",
      "Сидоров\n",
      "S=  0.625 данные человека\n",
      " Employee('Сидорова', 'Светлана', 18, 180, 'Пермь', 'студент', 10000)\n"
     ]
    },
    {
     "data": {
      "text/plain": [
       "0"
      ]
     },
     "execution_count": 7,
     "metadata": {},
     "output_type": "execute_result"
    }
   ],
   "source": [
    "# Оформление с помощью правил PEP8.\n",
    "# По всему тексту убраны/добавлены пробелы, заменены скобки.\n",
    "\n",
    "from pprint import pprint\n",
    "\n",
    "class Employee:  \n",
    " \n",
    "    emp_count = 0  \n",
    "  \n",
    "    def __init__(self, second_name, first_name, age, height,   # Органичение длины строки\n",
    "                 city, profession, salary):  \n",
    "        self.second_name = second_name\n",
    "        self.first_name = first_name \n",
    "        self.age = age                   \n",
    "        self.height = height             \n",
    "        self.city = city                 \n",
    "        self.profession = profession    \n",
    "        self.salary = salary           \n",
    "        Employee.emp_count += 1  \n",
    "        self.key = (second_name, height) \n",
    "    \n",
    "    def display_count(self):  \n",
    "        print(\"Всего человек: %d\" % Employee.emp_count)    \n",
    "    \n",
    "    def __repr__(self):  \n",
    "        return \"Employee('%s', '%s', %s, %s, '%s', '%s', %s)\" % (self.second_name, self.first_name, # Ограничение длины строки \n",
    "                                                                 self.age, self.height, self.city, \n",
    "                                                                 self.profession, self.salary)\n",
    "    \n",
    "    \n",
    "def compare (S1,S2):\n",
    "    S1, S2 = [S.lower() for S in [S1, S2]]\n",
    "    ngrams = [S1[i:i+3] for i in range(len(S1))]\n",
    "    count = 0\n",
    "    for ngram in ngrams:\n",
    "        count+= S2.count(ngram)\n",
    "    return count/max(len(S1), len(S2))\n",
    "\n",
    "\n",
    "def program_erorr (d):  \n",
    "# Создание функции ошибка.  \n",
    "    if d == 0:\n",
    "        print(\"Нет такого человека\\n\")\n",
    "    d = 0\n",
    "    return d\n",
    "\n",
    "# Тело основной программы       \n",
    "Ivanov= Employee(\"Иванов\",\"Александр\", 5, 110, \"Пермь\", \"нет\", 0) \n",
    "Petrov = Employee(\"Петров\",\"Василий\", 15, 140, \"Москва\", \"волонтер\", 5000)\n",
    "Abramov = Employee(\"Абрамова\",\"Ксения\", 28, 172, \"Екатеринбург\", \"инженер\", 40000)\n",
    "Veselov = Employee(\"Веселов\",\"Михаил\", 10, 152, \"Москва\", \"спортсмен\", 3000)\n",
    "Ivanova = Employee(\"Иванова\",\"Ксения\", 52, 170, \"Омск\", \"бухгалтер\", 70000)\n",
    "Sidorova = Employee(\"Сидорова\",\"Светлана\", 18, 180, \"Пермь\", \"студент\", 10000)\n",
    "Stepanov = Employee(\"Степанов\",\"Егор\", 32, 186, \"Самара\", \"маркетолог\", 95000)\n",
    "Piskov = Employee(\"Писков\",\"Феликс\", 47, 174, \"Москва\", \"дворник\", 13000)\n",
    "Noskov = Employee(\"Носкова\",\"Мила\", 36, 168, \"Екатеринбург\", \"экономист\", 45000)\n",
    "Moskaleva = Employee(\"Москалева\",\"Диана\", 25, 178, \"Новосибирск\", \"инженер\", 53000)\n",
    "\n",
    "people = {\n",
    "    Ivanov.key:Ivanov,\n",
    "    Petrov.key:Petrov,\n",
    "    Abramov.key:Abramov,\n",
    "    Veselov.key:Veselov,\n",
    "    Ivanova.key:Ivanova,\n",
    "    Sidorova.key:Sidorova,\n",
    "    Stepanov.key:Stepanov,\n",
    "    Piskov.key:Piskov,\n",
    "    Noskov.key:Noskov,\n",
    "    Moskaleva.key:Moskaleva,  \n",
    "}\n",
    "\n",
    "d = 0\n",
    "men_height = int(input(\"Введите рост человека:\\n\"))\n",
    "for key in people:\n",
    "    if (men_height - 5 <= key[1] <= men_height + 5):\n",
    "        print(people[key])\n",
    "        d += 1\n",
    "program_erorr(d)\n",
    "    \n",
    "S2 = str(input(\"Введите фамилию человека:\\n\"))\n",
    "for key in people:\n",
    "    S1 = key[0]\n",
    "    Men = compare(S1, S2)\n",
    "    if Men >= 0.6:\n",
    "        print(\"S= \", Men, \"данные человека\\n\", people[key])\n",
    "        d += 1\n",
    "program_erorr(d)"
   ]
  },
  {
   "cell_type": "code",
   "execution_count": null,
   "id": "27b15198",
   "metadata": {},
   "outputs": [],
   "source": []
  },
  {
   "cell_type": "code",
   "execution_count": null,
   "id": "1feb8b49",
   "metadata": {},
   "outputs": [],
   "source": []
  }
 ],
 "metadata": {
  "kernelspec": {
   "display_name": "Python 3",
   "language": "python",
   "name": "python3"
  },
  "language_info": {
   "codemirror_mode": {
    "name": "ipython",
    "version": 3
   },
   "file_extension": ".py",
   "mimetype": "text/x-python",
   "name": "python",
   "nbconvert_exporter": "python",
   "pygments_lexer": "ipython3",
   "version": "3.8.8"
  }
 },
 "nbformat": 4,
 "nbformat_minor": 5
}
