{
 "cells": [
  {
   "cell_type": "code",
   "execution_count": 1,
   "id": "c5afeaba",
   "metadata": {},
   "outputs": [
    {
     "name": "stdout",
     "output_type": "stream",
     "text": [
      "Введите ваш вопрос и я отвечу на него ДА или НЕТ\n",
      "исполниться?\n",
      "ДА\n",
      "Введите ваш вопрос и я отвечу на него ДА или НЕТ\n",
      "исполниться?\n",
      "Вы уже задавали этот вопрос\n",
      "\n",
      "Введите ваш вопрос и я отвечу на него ДА или НЕТ\n",
      "исполниться?\n",
      "Спроси что-нибудь другое...\n",
      "\n",
      "Введите ваш вопрос и я отвечу на него ДА или НЕТ\n",
      "исполниться?\n",
      "Мы так и будем ходить по кругу?\n",
      "\n",
      "Введите ваш вопрос и я отвечу на него ДА или НЕТ\n",
      "да?\n",
      "НЕТ\n",
      "Введите ваш вопрос и я отвечу на него ДА или НЕТ\n",
      "нет?\n",
      "ДА\n",
      "Введите ваш вопрос и я отвечу на него ДА или НЕТ\n",
      "break\n",
      "До скорой встречи!\n"
     ]
    }
   ],
   "source": [
    "# Написать программу, чтобы она помнила отвеченные вопросы.\n",
    "\n",
    "from random import choice\n",
    "import random\n",
    "\n",
    "\n",
    "def program_erorr(k):\n",
    "    if k == 0:\n",
    "        print (\"Вы уже задавали этот вопрос\\n\")\n",
    "    elif k == 1:\n",
    "        print (\"Спроси что-нибудь другое...\\n\")\n",
    "    else:\n",
    "        print(\"Мы так и будем ходить по кругу?\\n\")\n",
    "    return k\n",
    "    \n",
    "\n",
    "question = input (\"Введите ваш вопрос и я отвечу на него ДА или НЕТ\\n\")\n",
    "text_question = []\n",
    "k = 0\n",
    "\n",
    "while question != \"break\":\n",
    "    if question in text_question:\n",
    "        program_erorr(k)\n",
    "        if k == 2:\n",
    "            k = 0\n",
    "        else:\n",
    "            k += 1\n",
    "    else:\n",
    "        answer = choice([\"ДА\\n\", \"НЕТ\\n\"])\n",
    "        print(answer)\n",
    "        text_question.append(question)\n",
    "        k = 0\n",
    "    question = input (\"Введите ваш вопрос и я отвечу на него ДА или НЕТ\\n\")\n",
    "\n",
    "print (\"До скорой встречи!\")              "
   ]
  }
 ],
 "metadata": {
  "kernelspec": {
   "display_name": "Python 3",
   "language": "python",
   "name": "python3"
  },
  "language_info": {
   "codemirror_mode": {
    "name": "ipython",
    "version": 3
   },
   "file_extension": ".py",
   "mimetype": "text/x-python",
   "name": "python",
   "nbconvert_exporter": "python",
   "pygments_lexer": "ipython3",
   "version": "3.8.8"
  }
 },
 "nbformat": 4,
 "nbformat_minor": 5
}
