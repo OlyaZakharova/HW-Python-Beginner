{
 "cells": [
  {
   "cell_type": "code",
   "execution_count": 1,
   "id": "b8ba425f",
   "metadata": {},
   "outputs": [
    {
     "name": "stdout",
     "output_type": "stream",
     "text": [
      "-250\n"
     ]
    }
   ],
   "source": [
    "A=[2,5,12,-5,-30,100,-250,0]\n",
    "\n",
    "min=A.pop()\n",
    "\n",
    "while A:\n",
    "    a=A.pop()\n",
    "    if a<min:\n",
    "        min=a\n",
    "\n",
    "print (min)"
   ]
  },
  {
   "cell_type": "code",
   "execution_count": null,
   "id": "ab0050d8",
   "metadata": {},
   "outputs": [],
   "source": []
  }
 ],
 "metadata": {
  "kernelspec": {
   "display_name": "Python 3",
   "language": "python",
   "name": "python3"
  },
  "language_info": {
   "codemirror_mode": {
    "name": "ipython",
    "version": 3
   },
   "file_extension": ".py",
   "mimetype": "text/x-python",
   "name": "python",
   "nbconvert_exporter": "python",
   "pygments_lexer": "ipython3",
   "version": "3.8.8"
  }
 },
 "nbformat": 4,
 "nbformat_minor": 5
}
