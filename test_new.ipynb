{
 "cells": [
  {
   "cell_type": "code",
   "execution_count": 1,
   "id": "05328d02",
   "metadata": {},
   "outputs": [
    {
     "name": "stdout",
     "output_type": "stream",
     "text": [
      "-66\n",
      "51\n",
      "31\n",
      "-64\n",
      "-72\n",
      "47\n",
      "-38\n",
      "-60\n",
      "35\n",
      "-54\n"
     ]
    }
   ],
   "source": [
    "#Задаем рандомно 10 чисел от -99 до 99 и вывод их на печать\n",
    "\n",
    "from random import randrange\n",
    "n=10\n",
    "A=[]\n",
    "A=[randrange(-100,100) for i in range (n)]\n",
    "\n",
    "for i in A:\n",
    "    print(i)\n"
   ]
  },
  {
   "cell_type": "code",
   "execution_count": 2,
   "id": "eca98917",
   "metadata": {},
   "outputs": [
    {
     "name": "stdout",
     "output_type": "stream",
     "text": [
      "min= -72 k= 4\n"
     ]
    }
   ],
   "source": [
    "#Нахождение минимума и номера элемента, печать\n",
    "min=A[0]\n",
    "k=0\n",
    "for i in range(1,len(A)):\n",
    "    if A[i]<min:\n",
    "        min=A[i]\n",
    "        k=i\n",
    "\n",
    "print (\"min=\",min,\"k=\", k)"
   ]
  },
  {
   "cell_type": "code",
   "execution_count": 3,
   "id": "5b2a526e",
   "metadata": {},
   "outputs": [
    {
     "name": "stdout",
     "output_type": "stream",
     "text": [
      "max= 51 l= 1\n"
     ]
    }
   ],
   "source": [
    "#Нахождение максимума и номера элемента, печать\n",
    "max=A[0]\n",
    "l=0\n",
    "for i in range(1,len(A)):\n",
    "    if A[i]>max:\n",
    "        max=A[i]\n",
    "        l=i\n",
    "\n",
    "print (\"max=\",max,\"l=\", l)\n"
   ]
  }
 ],
 "metadata": {
  "kernelspec": {
   "display_name": "Python 3",
   "language": "python",
   "name": "python3"
  },
  "language_info": {
   "codemirror_mode": {
    "name": "ipython",
    "version": 3
   },
   "file_extension": ".py",
   "mimetype": "text/x-python",
   "name": "python",
   "nbconvert_exporter": "python",
   "pygments_lexer": "ipython3",
   "version": "3.8.8"
  }
 },
 "nbformat": 4,
 "nbformat_minor": 5
}
