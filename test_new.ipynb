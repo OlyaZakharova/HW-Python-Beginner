{
 "cells": [
  {
   "cell_type": "code",
   "execution_count": 1,
   "id": "58498290",
   "metadata": {},
   "outputs": [
    {
     "name": "stdout",
     "output_type": "stream",
     "text": [
      "-34\n",
      "-68\n",
      "72\n",
      "14\n",
      "11\n",
      "26\n",
      "-84\n",
      "37\n",
      "76\n",
      "-2\n"
     ]
    }
   ],
   "source": [
    "#Задаем рандомно 10 чисел от -99 до 99 и вывод их на печать\n",
    "\n",
    "from random import randrange\n",
    "n=10\n",
    "A=[]\n",
    "for i in A:\n",
    "    print(i)\n",
    "A=[randrange(-100,100) for i in range (n)]\n",
    "\n",
    "for i in A:\n",
    "    print(i)\n"
   ]
  },
  {
   "cell_type": "code",
   "execution_count": 2,
   "id": "bbe62050",
   "metadata": {},
   "outputs": [
    {
     "name": "stdout",
     "output_type": "stream",
     "text": [
      "min= -84 k= 6\n"
     ]
    }
   ],
   "source": [
    "#Нахождение минимума и номера элемента, печать\n",
    "min=A[0]\n",
    "k=0\n",
    "for i in range(1,len(A)):\n",
    "    if A[i]<min:\n",
    "        min=A[i]\n",
    "        k=i\n",
    "\n",
    "print (\"min=\",min,\"k=\", k)"
   ]
  },
  {
   "cell_type": "code",
   "execution_count": 3,
   "id": "ca6c2096",
   "metadata": {},
   "outputs": [
    {
     "name": "stdout",
     "output_type": "stream",
     "text": [
      "max= 76 l= 8\n"
     ]
    }
   ],
   "source": [
    "#Нахождение максимума и номера элемента, печать\n",
    "max=A[0]\n",
    "l=0\n",
    "for i in range(1,len(A)):\n",
    "    if A[i]>max:\n",
    "        max=A[i]\n",
    "        l=i\n",
    "\n",
    "print (\"max=\",max,\"l=\", l)\n"
   ]
  }
 ],
 "metadata": {
  "kernelspec": {
   "display_name": "Python 3",
   "language": "python",
   "name": "python3"
  },
  "language_info": {
   "codemirror_mode": {
    "name": "ipython",
    "version": 3
   },
   "file_extension": ".py",
   "mimetype": "text/x-python",
   "name": "python",
   "nbconvert_exporter": "python",
   "pygments_lexer": "ipython3",
   "version": "3.8.8"
  }
 },
 "nbformat": 4,
 "nbformat_minor": 5
}
